{
  "nbformat": 4,
  "nbformat_minor": 0,
  "metadata": {
    "colab": {
      "name": "Untitled0.ipynb",
      "provenance": [],
      "toc_visible": true
    },
    "kernelspec": {
      "name": "python3",
      "display_name": "Python 3"
    }
  },
  "cells": [
    {
      "cell_type": "code",
      "metadata": {
        "id": "B67MtD3jU2d3",
        "colab_type": "code",
        "colab": {}
      },
      "source": [
        ""
      ],
      "execution_count": null,
      "outputs": []
    },
    {
      "cell_type": "code",
      "metadata": {
        "id": "E7DJAj6dzWoA",
        "colab_type": "code",
        "colab": {}
      },
      "source": [
        "import pandas as pd\n",
        "import numpy as np"
      ],
      "execution_count": null,
      "outputs": []
    },
    {
      "cell_type": "code",
      "metadata": {
        "id": "PpcqSjYXzYgh",
        "colab_type": "code",
        "colab": {}
      },
      "source": [
        "census_data = pd.read_csv(\"https://raw.githubusercontent.com/dphi-official/Datasets/master/Census_Income/Training_set_census.csv\" )"
      ],
      "execution_count": null,
      "outputs": []
    },
    {
      "cell_type": "code",
      "metadata": {
        "id": "avK0_lzh_kii",
        "colab_type": "code",
        "colab": {}
      },
      "source": [
        ""
      ],
      "execution_count": null,
      "outputs": []
    },
    {
      "cell_type": "code",
      "metadata": {
        "id": "WHy8Wc0k1AUJ",
        "colab_type": "code",
        "colab": {
          "base_uri": "https://localhost:8080/",
          "height": 417
        },
        "outputId": "c224ad6d-c742-4b2a-aeea-3e16c518417d"
      },
      "source": [
        "census_data.head()"
      ],
      "execution_count": null,
      "outputs": [
        {
          "output_type": "execute_result",
          "data": {
            "text/html": [
              "<div>\n",
              "<style scoped>\n",
              "    .dataframe tbody tr th:only-of-type {\n",
              "        vertical-align: middle;\n",
              "    }\n",
              "\n",
              "    .dataframe tbody tr th {\n",
              "        vertical-align: top;\n",
              "    }\n",
              "\n",
              "    .dataframe thead th {\n",
              "        text-align: right;\n",
              "    }\n",
              "</style>\n",
              "<table border=\"1\" class=\"dataframe\">\n",
              "  <thead>\n",
              "    <tr style=\"text-align: right;\">\n",
              "      <th></th>\n",
              "      <th>age</th>\n",
              "      <th>class_of_worker</th>\n",
              "      <th>industry_code</th>\n",
              "      <th>occupation_code</th>\n",
              "      <th>education</th>\n",
              "      <th>wage_per_hour</th>\n",
              "      <th>enrolled_in_edu_inst_lastwk</th>\n",
              "      <th>marital_status</th>\n",
              "      <th>major_industry_code</th>\n",
              "      <th>major_occupation_code</th>\n",
              "      <th>race</th>\n",
              "      <th>hispanic_origin</th>\n",
              "      <th>sex</th>\n",
              "      <th>member_of_labor_union</th>\n",
              "      <th>reason_for_unemployment</th>\n",
              "      <th>full_parttime_employment_stat</th>\n",
              "      <th>capital_gains</th>\n",
              "      <th>capital_losses</th>\n",
              "      <th>dividend_from_Stocks</th>\n",
              "      <th>tax_filer_status</th>\n",
              "      <th>region_of_previous_residence</th>\n",
              "      <th>state_of_previous_residence</th>\n",
              "      <th>d_household_family_stat</th>\n",
              "      <th>d_household_summary</th>\n",
              "      <th>migration_msa</th>\n",
              "      <th>migration_reg</th>\n",
              "      <th>migration_within_reg</th>\n",
              "      <th>live_1_year_ago</th>\n",
              "      <th>migration_sunbelt</th>\n",
              "      <th>num_person_Worked_employer</th>\n",
              "      <th>family_members_under_18</th>\n",
              "      <th>country_father</th>\n",
              "      <th>country_mother</th>\n",
              "      <th>country_self</th>\n",
              "      <th>citizenship</th>\n",
              "      <th>business_or_self_employed</th>\n",
              "      <th>fill_questionnaire_veteran_admin</th>\n",
              "      <th>veterans_benefits</th>\n",
              "      <th>weeks_worked_in_year</th>\n",
              "      <th>year</th>\n",
              "      <th>income_level</th>\n",
              "    </tr>\n",
              "  </thead>\n",
              "  <tbody>\n",
              "    <tr>\n",
              "      <th>0</th>\n",
              "      <td>23</td>\n",
              "      <td>Private</td>\n",
              "      <td>43</td>\n",
              "      <td>22</td>\n",
              "      <td>Some college but no degree</td>\n",
              "      <td>0</td>\n",
              "      <td>College or university</td>\n",
              "      <td>Never married</td>\n",
              "      <td>Education</td>\n",
              "      <td>Adm support including clerical</td>\n",
              "      <td>White</td>\n",
              "      <td>All other</td>\n",
              "      <td>Male</td>\n",
              "      <td>Not in universe</td>\n",
              "      <td>Not in universe</td>\n",
              "      <td>Full-time schedules</td>\n",
              "      <td>0</td>\n",
              "      <td>0</td>\n",
              "      <td>0</td>\n",
              "      <td>Single</td>\n",
              "      <td>Not in universe</td>\n",
              "      <td>Not in universe</td>\n",
              "      <td>Child 18+ never marr Not in a subfamily</td>\n",
              "      <td>Child 18 or older</td>\n",
              "      <td>NaN</td>\n",
              "      <td>NaN</td>\n",
              "      <td>NaN</td>\n",
              "      <td>Not in universe under 1 year old</td>\n",
              "      <td>NaN</td>\n",
              "      <td>4</td>\n",
              "      <td>Not in universe</td>\n",
              "      <td>Peru</td>\n",
              "      <td>Peru</td>\n",
              "      <td>United-States</td>\n",
              "      <td>Native- Born in the United States</td>\n",
              "      <td>0</td>\n",
              "      <td>Not in universe</td>\n",
              "      <td>2</td>\n",
              "      <td>30</td>\n",
              "      <td>95</td>\n",
              "      <td>0</td>\n",
              "    </tr>\n",
              "    <tr>\n",
              "      <th>1</th>\n",
              "      <td>24</td>\n",
              "      <td>Private</td>\n",
              "      <td>34</td>\n",
              "      <td>2</td>\n",
              "      <td>Bachelors degree(BA AB BS)</td>\n",
              "      <td>0</td>\n",
              "      <td>Not in universe</td>\n",
              "      <td>Never married</td>\n",
              "      <td>Finance insurance and real estate</td>\n",
              "      <td>Executive admin and managerial</td>\n",
              "      <td>White</td>\n",
              "      <td>All other</td>\n",
              "      <td>Male</td>\n",
              "      <td>No</td>\n",
              "      <td>Not in universe</td>\n",
              "      <td>Children or Armed Forces</td>\n",
              "      <td>0</td>\n",
              "      <td>0</td>\n",
              "      <td>0</td>\n",
              "      <td>Single</td>\n",
              "      <td>West</td>\n",
              "      <td>California</td>\n",
              "      <td>Nonfamily householder</td>\n",
              "      <td>Householder</td>\n",
              "      <td>MSA to MSA</td>\n",
              "      <td>Different county same state</td>\n",
              "      <td>Different county same state</td>\n",
              "      <td>No</td>\n",
              "      <td>No</td>\n",
              "      <td>4</td>\n",
              "      <td>Not in universe</td>\n",
              "      <td>United-States</td>\n",
              "      <td>United-States</td>\n",
              "      <td>United-States</td>\n",
              "      <td>Native- Born in the United States</td>\n",
              "      <td>0</td>\n",
              "      <td>Not in universe</td>\n",
              "      <td>2</td>\n",
              "      <td>26</td>\n",
              "      <td>94</td>\n",
              "      <td>0</td>\n",
              "    </tr>\n",
              "    <tr>\n",
              "      <th>2</th>\n",
              "      <td>38</td>\n",
              "      <td>Private</td>\n",
              "      <td>34</td>\n",
              "      <td>2</td>\n",
              "      <td>Masters degree(MA MS MEng MEd MSW MBA)</td>\n",
              "      <td>0</td>\n",
              "      <td>Not in universe</td>\n",
              "      <td>Married-civilian spouse present</td>\n",
              "      <td>Finance insurance and real estate</td>\n",
              "      <td>Executive admin and managerial</td>\n",
              "      <td>White</td>\n",
              "      <td>All other</td>\n",
              "      <td>Male</td>\n",
              "      <td>Not in universe</td>\n",
              "      <td>Not in universe</td>\n",
              "      <td>Children or Armed Forces</td>\n",
              "      <td>0</td>\n",
              "      <td>0</td>\n",
              "      <td>250</td>\n",
              "      <td>Joint both under 65</td>\n",
              "      <td>Not in universe</td>\n",
              "      <td>Not in universe</td>\n",
              "      <td>Householder</td>\n",
              "      <td>Householder</td>\n",
              "      <td>Nonmover</td>\n",
              "      <td>Nonmover</td>\n",
              "      <td>Nonmover</td>\n",
              "      <td>Yes</td>\n",
              "      <td>Not in universe</td>\n",
              "      <td>4</td>\n",
              "      <td>Not in universe</td>\n",
              "      <td>United-States</td>\n",
              "      <td>United-States</td>\n",
              "      <td>United-States</td>\n",
              "      <td>Native- Born in the United States</td>\n",
              "      <td>0</td>\n",
              "      <td>Not in universe</td>\n",
              "      <td>2</td>\n",
              "      <td>52</td>\n",
              "      <td>94</td>\n",
              "      <td>1</td>\n",
              "    </tr>\n",
              "    <tr>\n",
              "      <th>3</th>\n",
              "      <td>33</td>\n",
              "      <td>Not in universe</td>\n",
              "      <td>0</td>\n",
              "      <td>0</td>\n",
              "      <td>High school graduate</td>\n",
              "      <td>0</td>\n",
              "      <td>Not in universe</td>\n",
              "      <td>Married-civilian spouse present</td>\n",
              "      <td>Not in universe or children</td>\n",
              "      <td>Not in universe</td>\n",
              "      <td>White</td>\n",
              "      <td>All other</td>\n",
              "      <td>Female</td>\n",
              "      <td>Not in universe</td>\n",
              "      <td>Not in universe</td>\n",
              "      <td>Not in labor force</td>\n",
              "      <td>0</td>\n",
              "      <td>0</td>\n",
              "      <td>0</td>\n",
              "      <td>Joint both under 65</td>\n",
              "      <td>Not in universe</td>\n",
              "      <td>Not in universe</td>\n",
              "      <td>Child 18+ ever marr RP of subfamily</td>\n",
              "      <td>Child 18 or older</td>\n",
              "      <td>NaN</td>\n",
              "      <td>NaN</td>\n",
              "      <td>NaN</td>\n",
              "      <td>Not in universe under 1 year old</td>\n",
              "      <td>NaN</td>\n",
              "      <td>0</td>\n",
              "      <td>Not in universe</td>\n",
              "      <td>United-States</td>\n",
              "      <td>United-States</td>\n",
              "      <td>United-States</td>\n",
              "      <td>Native- Born in the United States</td>\n",
              "      <td>0</td>\n",
              "      <td>Not in universe</td>\n",
              "      <td>2</td>\n",
              "      <td>0</td>\n",
              "      <td>95</td>\n",
              "      <td>0</td>\n",
              "    </tr>\n",
              "    <tr>\n",
              "      <th>4</th>\n",
              "      <td>13</td>\n",
              "      <td>Not in universe</td>\n",
              "      <td>0</td>\n",
              "      <td>0</td>\n",
              "      <td>Children</td>\n",
              "      <td>0</td>\n",
              "      <td>Not in universe</td>\n",
              "      <td>Never married</td>\n",
              "      <td>Not in universe or children</td>\n",
              "      <td>Not in universe</td>\n",
              "      <td>White</td>\n",
              "      <td>All other</td>\n",
              "      <td>Male</td>\n",
              "      <td>Not in universe</td>\n",
              "      <td>Not in universe</td>\n",
              "      <td>Children or Armed Forces</td>\n",
              "      <td>0</td>\n",
              "      <td>0</td>\n",
              "      <td>0</td>\n",
              "      <td>Nonfiler</td>\n",
              "      <td>Not in universe</td>\n",
              "      <td>Not in universe</td>\n",
              "      <td>Child &lt;18 never marr not in subfamily</td>\n",
              "      <td>Child under 18 never married</td>\n",
              "      <td>NaN</td>\n",
              "      <td>NaN</td>\n",
              "      <td>NaN</td>\n",
              "      <td>Not in universe under 1 year old</td>\n",
              "      <td>NaN</td>\n",
              "      <td>0</td>\n",
              "      <td>Both parents present</td>\n",
              "      <td>United-States</td>\n",
              "      <td>United-States</td>\n",
              "      <td>United-States</td>\n",
              "      <td>Native- Born in the United States</td>\n",
              "      <td>0</td>\n",
              "      <td>Not in universe</td>\n",
              "      <td>0</td>\n",
              "      <td>0</td>\n",
              "      <td>95</td>\n",
              "      <td>0</td>\n",
              "    </tr>\n",
              "  </tbody>\n",
              "</table>\n",
              "</div>"
            ],
            "text/plain": [
              "   age  class_of_worker  ...  year  income_level\n",
              "0   23          Private  ...    95             0\n",
              "1   24          Private  ...    94             0\n",
              "2   38          Private  ...    94             1\n",
              "3   33  Not in universe  ...    95             0\n",
              "4   13  Not in universe  ...    95             0\n",
              "\n",
              "[5 rows x 41 columns]"
            ]
          },
          "metadata": {
            "tags": []
          },
          "execution_count": 12
        }
      ]
    },
    {
      "cell_type": "code",
      "metadata": {
        "id": "e80EcXuk1CTf",
        "colab_type": "code",
        "colab": {
          "base_uri": "https://localhost:8080/",
          "height": 523
        },
        "outputId": "d50c18c8-a496-43e3-fcef-1d3ad799280c"
      },
      "source": [
        "!pip install h2o\n",
        "import h2o\n",
        "from h2o.automl import H2OAutoML\n",
        "h2o.init()"
      ],
      "execution_count": null,
      "outputs": [
        {
          "output_type": "stream",
          "text": [
            "Requirement already satisfied: h2o in /usr/local/lib/python3.6/dist-packages (3.30.0.7)\n",
            "Requirement already satisfied: colorama>=0.3.8 in /usr/local/lib/python3.6/dist-packages (from h2o) (0.4.3)\n",
            "Requirement already satisfied: requests in /usr/local/lib/python3.6/dist-packages (from h2o) (2.23.0)\n",
            "Requirement already satisfied: future in /usr/local/lib/python3.6/dist-packages (from h2o) (0.16.0)\n",
            "Requirement already satisfied: tabulate in /usr/local/lib/python3.6/dist-packages (from h2o) (0.8.7)\n",
            "Requirement already satisfied: urllib3!=1.25.0,!=1.25.1,<1.26,>=1.21.1 in /usr/local/lib/python3.6/dist-packages (from requests->h2o) (1.24.3)\n",
            "Requirement already satisfied: certifi>=2017.4.17 in /usr/local/lib/python3.6/dist-packages (from requests->h2o) (2020.6.20)\n",
            "Requirement already satisfied: chardet<4,>=3.0.2 in /usr/local/lib/python3.6/dist-packages (from requests->h2o) (3.0.4)\n",
            "Requirement already satisfied: idna<3,>=2.5 in /usr/local/lib/python3.6/dist-packages (from requests->h2o) (2.10)\n",
            "Checking whether there is an H2O instance running at http://localhost:54321 . connected.\n"
          ],
          "name": "stdout"
        },
        {
          "output_type": "display_data",
          "data": {
            "text/html": [
              "<div style=\"overflow:auto\"><table style=\"width:50%\"><tr><td>H2O_cluster_uptime:</td>\n",
              "<td>12 mins 24 secs</td></tr>\n",
              "<tr><td>H2O_cluster_timezone:</td>\n",
              "<td>Etc/UTC</td></tr>\n",
              "<tr><td>H2O_data_parsing_timezone:</td>\n",
              "<td>UTC</td></tr>\n",
              "<tr><td>H2O_cluster_version:</td>\n",
              "<td>3.30.0.7</td></tr>\n",
              "<tr><td>H2O_cluster_version_age:</td>\n",
              "<td>19 days </td></tr>\n",
              "<tr><td>H2O_cluster_name:</td>\n",
              "<td>H2O_from_python_unknownUser_m438e9</td></tr>\n",
              "<tr><td>H2O_cluster_total_nodes:</td>\n",
              "<td>1</td></tr>\n",
              "<tr><td>H2O_cluster_free_memory:</td>\n",
              "<td>3.157 Gb</td></tr>\n",
              "<tr><td>H2O_cluster_total_cores:</td>\n",
              "<td>2</td></tr>\n",
              "<tr><td>H2O_cluster_allowed_cores:</td>\n",
              "<td>2</td></tr>\n",
              "<tr><td>H2O_cluster_status:</td>\n",
              "<td>locked, healthy</td></tr>\n",
              "<tr><td>H2O_connection_url:</td>\n",
              "<td>http://localhost:54321</td></tr>\n",
              "<tr><td>H2O_connection_proxy:</td>\n",
              "<td>{\"http\": null, \"https\": null}</td></tr>\n",
              "<tr><td>H2O_internal_security:</td>\n",
              "<td>False</td></tr>\n",
              "<tr><td>H2O_API_Extensions:</td>\n",
              "<td>Amazon S3, XGBoost, Algos, AutoML, Core V3, TargetEncoder, Core V4</td></tr>\n",
              "<tr><td>Python_version:</td>\n",
              "<td>3.6.9 final</td></tr></table></div>"
            ],
            "text/plain": [
              "--------------------------  ------------------------------------------------------------------\n",
              "H2O_cluster_uptime:         12 mins 24 secs\n",
              "H2O_cluster_timezone:       Etc/UTC\n",
              "H2O_data_parsing_timezone:  UTC\n",
              "H2O_cluster_version:        3.30.0.7\n",
              "H2O_cluster_version_age:    19 days\n",
              "H2O_cluster_name:           H2O_from_python_unknownUser_m438e9\n",
              "H2O_cluster_total_nodes:    1\n",
              "H2O_cluster_free_memory:    3.157 Gb\n",
              "H2O_cluster_total_cores:    2\n",
              "H2O_cluster_allowed_cores:  2\n",
              "H2O_cluster_status:         locked, healthy\n",
              "H2O_connection_url:         http://localhost:54321\n",
              "H2O_connection_proxy:       {\"http\": null, \"https\": null}\n",
              "H2O_internal_security:      False\n",
              "H2O_API_Extensions:         Amazon S3, XGBoost, Algos, AutoML, Core V3, TargetEncoder, Core V4\n",
              "Python_version:             3.6.9 final\n",
              "--------------------------  ------------------------------------------------------------------"
            ]
          },
          "metadata": {
            "tags": []
          }
        }
      ]
    },
    {
      "cell_type": "code",
      "metadata": {
        "id": "VkX6c91-_HUK",
        "colab_type": "code",
        "colab": {
          "base_uri": "https://localhost:8080/",
          "height": 34
        },
        "outputId": "e797108f-99f6-4bd4-9469-7f11b98f1d29"
      },
      "source": [
        "data = h2o.import_file(\"https://raw.githubusercontent.com/dphi-official/Datasets/master/Census_Income/Training_set_census.csv\")\n"
      ],
      "execution_count": null,
      "outputs": [
        {
          "output_type": "stream",
          "text": [
            "Parse progress: |█████████████████████████████████████████████████████████| 100%\n"
          ],
          "name": "stdout"
        }
      ]
    },
    {
      "cell_type": "code",
      "metadata": {
        "id": "xe5Nta8n_ztj",
        "colab_type": "code",
        "colab": {
          "base_uri": "https://localhost:8080/",
          "height": 34
        },
        "outputId": "5b63fe55-abb1-4381-bd55-63ecf6018146"
      },
      "source": [
        "val = h2o.import_file('https://raw.githubusercontent.com/dphi-official/Datasets/master/Census_Income/Testing_set_census.csv')"
      ],
      "execution_count": null,
      "outputs": [
        {
          "output_type": "stream",
          "text": [
            "Parse progress: |█████████████████████████████████████████████████████████| 100%\n"
          ],
          "name": "stdout"
        }
      ]
    },
    {
      "cell_type": "code",
      "metadata": {
        "id": "yI-z_nCmAKdW",
        "colab_type": "code",
        "colab": {}
      },
      "source": [
        "train,test = data.split_frame([0.8])"
      ],
      "execution_count": null,
      "outputs": []
    },
    {
      "cell_type": "code",
      "metadata": {
        "id": "OqHvbal4AOaT",
        "colab_type": "code",
        "colab": {
          "base_uri": "https://localhost:8080/",
          "height": 34
        },
        "outputId": "d198cf3e-729a-48f5-c0f7-e00144adc468"
      },
      "source": [
        "features = train.columns\n",
        "features.remove('income_level')\n",
        "y='income_level'\n",
        "train[y] = train[y].asfactor()\n",
        "test[y] = test[y].asfactor()\n",
        "aml = H2OAutoML(max_models=10,seed=1,nfolds=5,verbosity='warn')\n",
        "aml.train(x=features,y='income_level',training_frame = train)"
      ],
      "execution_count": null,
      "outputs": [
        {
          "output_type": "stream",
          "text": [
            "AutoML progress: |████████████████████████████████████████████████████████| 100%\n"
          ],
          "name": "stdout"
        }
      ]
    },
    {
      "cell_type": "code",
      "metadata": {
        "id": "oPd_i7_7A63X",
        "colab_type": "code",
        "colab": {
          "base_uri": "https://localhost:8080/",
          "height": 238
        },
        "outputId": "70be1933-265a-45e6-d27e-7f331dcadb59"
      },
      "source": [
        "aml.leaderboard"
      ],
      "execution_count": null,
      "outputs": [
        {
          "output_type": "display_data",
          "data": {
            "text/html": [
              "<table>\n",
              "<thead>\n",
              "<tr><th>model_id                                           </th><th style=\"text-align: right;\">     auc</th><th style=\"text-align: right;\">  logloss</th><th style=\"text-align: right;\">   aucpr</th><th style=\"text-align: right;\">  mean_per_class_error</th><th style=\"text-align: right;\">    rmse</th><th style=\"text-align: right;\">      mse</th></tr>\n",
              "</thead>\n",
              "<tbody>\n",
              "<tr><td>StackedEnsemble_AllModels_AutoML_20200809_180358   </td><td style=\"text-align: right;\">0.955171</td><td style=\"text-align: right;\"> 0.138421</td><td style=\"text-align: right;\">0.71852 </td><td style=\"text-align: right;\">              0.188905</td><td style=\"text-align: right;\">0.19363 </td><td style=\"text-align: right;\">0.0374925</td></tr>\n",
              "<tr><td>StackedEnsemble_BestOfFamily_AutoML_20200809_180358</td><td style=\"text-align: right;\">0.954484</td><td style=\"text-align: right;\"> 0.138888</td><td style=\"text-align: right;\">0.716156</td><td style=\"text-align: right;\">              0.18031 </td><td style=\"text-align: right;\">0.194006</td><td style=\"text-align: right;\">0.0376385</td></tr>\n",
              "<tr><td>XGBoost_3_AutoML_20200809_180358                   </td><td style=\"text-align: right;\">0.954316</td><td style=\"text-align: right;\"> 0.124639</td><td style=\"text-align: right;\">0.715585</td><td style=\"text-align: right;\">              0.185268</td><td style=\"text-align: right;\">0.19032 </td><td style=\"text-align: right;\">0.0362216</td></tr>\n",
              "<tr><td>GBM_2_AutoML_20200809_180358                       </td><td style=\"text-align: right;\">0.953411</td><td style=\"text-align: right;\"> 0.126412</td><td style=\"text-align: right;\">0.708495</td><td style=\"text-align: right;\">              0.191955</td><td style=\"text-align: right;\">0.191571</td><td style=\"text-align: right;\">0.0366994</td></tr>\n",
              "<tr><td>GBM_3_AutoML_20200809_180358                       </td><td style=\"text-align: right;\">0.953106</td><td style=\"text-align: right;\"> 0.126856</td><td style=\"text-align: right;\">0.707282</td><td style=\"text-align: right;\">              0.195183</td><td style=\"text-align: right;\">0.191921</td><td style=\"text-align: right;\">0.0368338</td></tr>\n",
              "<tr><td>XGBoost_1_AutoML_20200809_180358                   </td><td style=\"text-align: right;\">0.953089</td><td style=\"text-align: right;\"> 0.126717</td><td style=\"text-align: right;\">0.705992</td><td style=\"text-align: right;\">              0.183313</td><td style=\"text-align: right;\">0.192046</td><td style=\"text-align: right;\">0.0368816</td></tr>\n",
              "<tr><td>GBM_1_AutoML_20200809_180358                       </td><td style=\"text-align: right;\">0.952961</td><td style=\"text-align: right;\"> 0.127371</td><td style=\"text-align: right;\">0.701859</td><td style=\"text-align: right;\">              0.186859</td><td style=\"text-align: right;\">0.19215 </td><td style=\"text-align: right;\">0.0369217</td></tr>\n",
              "<tr><td>GBM_5_AutoML_20200809_180358                       </td><td style=\"text-align: right;\">0.952811</td><td style=\"text-align: right;\"> 0.127247</td><td style=\"text-align: right;\">0.705507</td><td style=\"text-align: right;\">              0.189814</td><td style=\"text-align: right;\">0.192307</td><td style=\"text-align: right;\">0.0369819</td></tr>\n",
              "<tr><td>GBM_4_AutoML_20200809_180358                       </td><td style=\"text-align: right;\">0.952235</td><td style=\"text-align: right;\"> 0.128234</td><td style=\"text-align: right;\">0.70353 </td><td style=\"text-align: right;\">              0.190639</td><td style=\"text-align: right;\">0.192933</td><td style=\"text-align: right;\">0.0372231</td></tr>\n",
              "<tr><td>XGBoost_2_AutoML_20200809_180358                   </td><td style=\"text-align: right;\">0.951681</td><td style=\"text-align: right;\"> 0.129146</td><td style=\"text-align: right;\">0.696949</td><td style=\"text-align: right;\">              0.187301</td><td style=\"text-align: right;\">0.193774</td><td style=\"text-align: right;\">0.0375482</td></tr>\n",
              "</tbody>\n",
              "</table>"
            ]
          },
          "metadata": {
            "tags": []
          }
        },
        {
          "output_type": "execute_result",
          "data": {
            "text/plain": [
              ""
            ]
          },
          "metadata": {
            "tags": []
          },
          "execution_count": 25
        }
      ]
    },
    {
      "cell_type": "code",
      "metadata": {
        "id": "2qcyAGaWLGrO",
        "colab_type": "code",
        "colab": {
          "base_uri": "https://localhost:8080/",
          "height": 34
        },
        "outputId": "e7f762b0-f5a5-48c2-e730-f08c04f430c1"
      },
      "source": [
        "y_pred = aml.predict(test)"
      ],
      "execution_count": null,
      "outputs": [
        {
          "output_type": "stream",
          "text": [
            "stackedensemble prediction progress: |████████████████████████████████████| 100%\n"
          ],
          "name": "stdout"
        }
      ]
    },
    {
      "cell_type": "code",
      "metadata": {
        "id": "_eZGpD26V6-x",
        "colab_type": "code",
        "colab": {
          "base_uri": "https://localhost:8080/",
          "height": 238
        },
        "outputId": "6e640d97-5875-4ffa-9749-639342b1a4ff"
      },
      "source": [
        "y_pred"
      ],
      "execution_count": null,
      "outputs": [
        {
          "output_type": "display_data",
          "data": {
            "text/html": [
              "<table>\n",
              "<thead>\n",
              "<tr><th style=\"text-align: right;\">  predict</th><th style=\"text-align: right;\">      p0</th><th style=\"text-align: right;\">       p1</th></tr>\n",
              "</thead>\n",
              "<tbody>\n",
              "<tr><td style=\"text-align: right;\">        0</td><td style=\"text-align: right;\">0.982791</td><td style=\"text-align: right;\">0.017209 </td></tr>\n",
              "<tr><td style=\"text-align: right;\">        0</td><td style=\"text-align: right;\">0.982955</td><td style=\"text-align: right;\">0.017045 </td></tr>\n",
              "<tr><td style=\"text-align: right;\">        0</td><td style=\"text-align: right;\">0.983116</td><td style=\"text-align: right;\">0.0168837</td></tr>\n",
              "<tr><td style=\"text-align: right;\">        0</td><td style=\"text-align: right;\">0.97834 </td><td style=\"text-align: right;\">0.0216598</td></tr>\n",
              "<tr><td style=\"text-align: right;\">        0</td><td style=\"text-align: right;\">0.977475</td><td style=\"text-align: right;\">0.0225254</td></tr>\n",
              "<tr><td style=\"text-align: right;\">        0</td><td style=\"text-align: right;\">0.982431</td><td style=\"text-align: right;\">0.0175693</td></tr>\n",
              "<tr><td style=\"text-align: right;\">        0</td><td style=\"text-align: right;\">0.983115</td><td style=\"text-align: right;\">0.0168845</td></tr>\n",
              "<tr><td style=\"text-align: right;\">        0</td><td style=\"text-align: right;\">0.983053</td><td style=\"text-align: right;\">0.0169475</td></tr>\n",
              "<tr><td style=\"text-align: right;\">        0</td><td style=\"text-align: right;\">0.970763</td><td style=\"text-align: right;\">0.0292373</td></tr>\n",
              "<tr><td style=\"text-align: right;\">        0</td><td style=\"text-align: right;\">0.982451</td><td style=\"text-align: right;\">0.0175488</td></tr>\n",
              "</tbody>\n",
              "</table>"
            ]
          },
          "metadata": {
            "tags": []
          }
        },
        {
          "output_type": "execute_result",
          "data": {
            "text/plain": [
              ""
            ]
          },
          "metadata": {
            "tags": []
          },
          "execution_count": 27
        }
      ]
    },
    {
      "cell_type": "code",
      "metadata": {
        "id": "232jLWyWLGtu",
        "colab_type": "code",
        "colab": {}
      },
      "source": [
        "from sklearn.metrics import f1_score"
      ],
      "execution_count": null,
      "outputs": []
    },
    {
      "cell_type": "code",
      "metadata": {
        "id": "7WqlBddyLGwQ",
        "colab_type": "code",
        "colab": {
          "base_uri": "https://localhost:8080/",
          "height": 34
        },
        "outputId": "99680853-86ba-4c41-d416-d29fb5966d49"
      },
      "source": [
        "print(f1_score(test.as_data_frame(use_pandas=True)['income_level'],y_pred.as_data_frame(use_pandas=True)['predict']))"
      ],
      "execution_count": null,
      "outputs": [
        {
          "output_type": "stream",
          "text": [
            "0.6411483253588518\n"
          ],
          "name": "stdout"
        }
      ]
    },
    {
      "cell_type": "code",
      "metadata": {
        "id": "OmmSl1j8LGyr",
        "colab_type": "code",
        "colab": {
          "base_uri": "https://localhost:8080/",
          "height": 87
        },
        "outputId": "48513cd3-5095-4269-b633-4e1b6570ed1f"
      },
      "source": [
        "submission_pred = aml.predict(val)"
      ],
      "execution_count": null,
      "outputs": [
        {
          "output_type": "stream",
          "text": [
            "stackedensemble prediction progress: |████████████████████████████████████| 100%\n"
          ],
          "name": "stdout"
        },
        {
          "output_type": "stream",
          "text": [
            "/usr/local/lib/python3.6/dist-packages/h2o/job.py:70: UserWarning: Test/Validation dataset column 'd_household_family_stat' has levels not trained on: [Grandchild <18 ever marr not in subfamily]\n",
            "  warnings.warn(w)\n"
          ],
          "name": "stderr"
        }
      ]
    },
    {
      "cell_type": "code",
      "metadata": {
        "id": "uPN4VnqbU4mE",
        "colab_type": "code",
        "colab": {
          "base_uri": "https://localhost:8080/",
          "height": 195
        },
        "outputId": "97f850d8-efc5-4054-a07a-dea59cd193c9"
      },
      "source": [
        ""
      ],
      "execution_count": null,
      "outputs": [
        {
          "output_type": "error",
          "ename": "AttributeError",
          "evalue": "ignored",
          "traceback": [
            "\u001b[0;31m---------------------------------------------------------------------------\u001b[0m",
            "\u001b[0;31mAttributeError\u001b[0m                            Traceback (most recent call last)",
            "\u001b[0;32m<ipython-input-33-2cce38be5792>\u001b[0m in \u001b[0;36m<module>\u001b[0;34m()\u001b[0m\n\u001b[1;32m      1\u001b[0m \u001b[0;32mfrom\u001b[0m \u001b[0mgoogle\u001b[0m\u001b[0;34m.\u001b[0m\u001b[0mcolab\u001b[0m \u001b[0;32mimport\u001b[0m \u001b[0mfiles\u001b[0m\u001b[0;34m\u001b[0m\u001b[0;34m\u001b[0m\u001b[0m\n\u001b[0;32m----> 2\u001b[0;31m \u001b[0msubmission_pred\u001b[0m\u001b[0;34m[\u001b[0m\u001b[0;34m'predict'\u001b[0m\u001b[0;34m]\u001b[0m\u001b[0;34m.\u001b[0m\u001b[0mto_csv\u001b[0m\u001b[0;34m(\u001b[0m\u001b[0;34m'prediction_results_HP1.csv'\u001b[0m\u001b[0;34m)\u001b[0m\u001b[0;34m\u001b[0m\u001b[0;34m\u001b[0m\u001b[0m\n\u001b[0m\u001b[1;32m      3\u001b[0m \u001b[0mfiles\u001b[0m\u001b[0;34m.\u001b[0m\u001b[0mdownload\u001b[0m\u001b[0;34m(\u001b[0m\u001b[0;34m'prediction_results_HP1.csv'\u001b[0m\u001b[0;34m)\u001b[0m\u001b[0;34m\u001b[0m\u001b[0;34m\u001b[0m\u001b[0m\n",
            "\u001b[0;31mAttributeError\u001b[0m: 'H2OFrame' object has no attribute 'to_csv'"
          ]
        }
      ]
    },
    {
      "cell_type": "code",
      "metadata": {
        "id": "CPOg6_r786Gp",
        "colab_type": "code",
        "colab": {}
      },
      "source": [
        "submit = pd.DataFrame(submission_pred.as_data_frame(use_pandas=True)['predict'].tolist())"
      ],
      "execution_count": null,
      "outputs": []
    },
    {
      "cell_type": "code",
      "metadata": {
        "id": "QmWj0Hky86D1",
        "colab_type": "code",
        "colab": {
          "base_uri": "https://localhost:8080/",
          "height": 17
        },
        "outputId": "42c76e50-f8e0-4308-99d5-1b4ceadbbbfd"
      },
      "source": [
        "from google.colab import files\n",
        "submit.to_csv('prediction_results_HP1.csv')         \n",
        "files.download('prediction_results_HP1.csv')"
      ],
      "execution_count": null,
      "outputs": [
        {
          "output_type": "display_data",
          "data": {
            "application/javascript": [
              "\n",
              "    async function download(id, filename, size) {\n",
              "      if (!google.colab.kernel.accessAllowed) {\n",
              "        return;\n",
              "      }\n",
              "      const div = document.createElement('div');\n",
              "      const label = document.createElement('label');\n",
              "      label.textContent = `Downloading \"${filename}\": `;\n",
              "      div.appendChild(label);\n",
              "      const progress = document.createElement('progress');\n",
              "      progress.max = size;\n",
              "      div.appendChild(progress);\n",
              "      document.body.appendChild(div);\n",
              "\n",
              "      const buffers = [];\n",
              "      let downloaded = 0;\n",
              "\n",
              "      const channel = await google.colab.kernel.comms.open(id);\n",
              "      // Send a message to notify the kernel that we're ready.\n",
              "      channel.send({})\n",
              "\n",
              "      for await (const message of channel.messages) {\n",
              "        // Send a message to notify the kernel that we're ready.\n",
              "        channel.send({})\n",
              "        if (message.buffers) {\n",
              "          for (const buffer of message.buffers) {\n",
              "            buffers.push(buffer);\n",
              "            downloaded += buffer.byteLength;\n",
              "            progress.value = downloaded;\n",
              "          }\n",
              "        }\n",
              "      }\n",
              "      const blob = new Blob(buffers, {type: 'application/binary'});\n",
              "      const a = document.createElement('a');\n",
              "      a.href = window.URL.createObjectURL(blob);\n",
              "      a.download = filename;\n",
              "      div.appendChild(a);\n",
              "      a.click();\n",
              "      div.remove();\n",
              "    }\n",
              "  "
            ],
            "text/plain": [
              "<IPython.core.display.Javascript object>"
            ]
          },
          "metadata": {
            "tags": []
          }
        },
        {
          "output_type": "display_data",
          "data": {
            "application/javascript": [
              "download(\"download_35290d90-2850-465a-b6ab-46fa73d19174\", \"prediction_results_HP1.csv\", 388893)"
            ],
            "text/plain": [
              "<IPython.core.display.Javascript object>"
            ]
          },
          "metadata": {
            "tags": []
          }
        }
      ]
    },
    {
      "cell_type": "code",
      "metadata": {
        "id": "qcgUH3b-86Bv",
        "colab_type": "code",
        "colab": {}
      },
      "source": [
        ""
      ],
      "execution_count": null,
      "outputs": []
    },
    {
      "cell_type": "code",
      "metadata": {
        "id": "DtFkDrKV85_N",
        "colab_type": "code",
        "colab": {}
      },
      "source": [
        ""
      ],
      "execution_count": null,
      "outputs": []
    },
    {
      "cell_type": "code",
      "metadata": {
        "id": "egcR7tJ28584",
        "colab_type": "code",
        "colab": {}
      },
      "source": [
        ""
      ],
      "execution_count": null,
      "outputs": []
    },
    {
      "cell_type": "code",
      "metadata": {
        "id": "evZn5aVo856i",
        "colab_type": "code",
        "colab": {}
      },
      "source": [
        ""
      ],
      "execution_count": null,
      "outputs": []
    },
    {
      "cell_type": "code",
      "metadata": {
        "id": "19_BjSsM8539",
        "colab_type": "code",
        "colab": {}
      },
      "source": [
        ""
      ],
      "execution_count": null,
      "outputs": []
    },
    {
      "cell_type": "code",
      "metadata": {
        "id": "FYh3zhFv851p",
        "colab_type": "code",
        "colab": {}
      },
      "source": [
        ""
      ],
      "execution_count": null,
      "outputs": []
    },
    {
      "cell_type": "code",
      "metadata": {
        "id": "S3CQXkoo85ym",
        "colab_type": "code",
        "colab": {}
      },
      "source": [
        ""
      ],
      "execution_count": null,
      "outputs": []
    },
    {
      "cell_type": "code",
      "metadata": {
        "id": "NYgRmSZT85wW",
        "colab_type": "code",
        "colab": {}
      },
      "source": [
        ""
      ],
      "execution_count": null,
      "outputs": []
    },
    {
      "cell_type": "code",
      "metadata": {
        "id": "kATNAoRp85tu",
        "colab_type": "code",
        "colab": {}
      },
      "source": [
        ""
      ],
      "execution_count": null,
      "outputs": []
    }
  ]
}